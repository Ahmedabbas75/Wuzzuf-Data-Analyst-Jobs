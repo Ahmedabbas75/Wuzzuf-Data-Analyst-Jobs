{
 "cells": [
  {
   "cell_type": "markdown",
   "id": "7dd91d2a",
   "metadata": {},
   "source": [
    "## Loading Data & Libraries"
   ]
  },
  {
   "cell_type": "code",
   "execution_count": 1,
   "id": "9232e97e",
   "metadata": {},
   "outputs": [],
   "source": [
    "import pandas as pd\n",
    "import numpy as np\n",
    "import matplotlib.pyplot as plt\n",
    "import seaborn as sns\n",
    "import collections\n",
    "import re"
   ]
  },
  {
   "cell_type": "code",
   "execution_count": 2,
   "id": "14220fa5",
   "metadata": {},
   "outputs": [],
   "source": [
    "data = pd.read_csv(\"Datasets\\Wuzzuf-Jobs.csv\")"
   ]
  },
  {
   "cell_type": "markdown",
   "id": "20c91c5e",
   "metadata": {},
   "source": [
    "## Sample Of Data"
   ]
  },
  {
   "cell_type": "code",
   "execution_count": 3,
   "id": "df66956e",
   "metadata": {},
   "outputs": [
    {
     "data": {
      "text/html": [
       "<div>\n",
       "<style scoped>\n",
       "    .dataframe tbody tr th:only-of-type {\n",
       "        vertical-align: middle;\n",
       "    }\n",
       "\n",
       "    .dataframe tbody tr th {\n",
       "        vertical-align: top;\n",
       "    }\n",
       "\n",
       "    .dataframe thead th {\n",
       "        text-align: right;\n",
       "    }\n",
       "</style>\n",
       "<table border=\"1\" class=\"dataframe\">\n",
       "  <thead>\n",
       "    <tr style=\"text-align: right;\">\n",
       "      <th></th>\n",
       "      <th>Unnamed: 0</th>\n",
       "      <th>Job title</th>\n",
       "      <th>Company name</th>\n",
       "      <th>Location</th>\n",
       "      <th>Job type</th>\n",
       "      <th>Exp level</th>\n",
       "      <th>Exp years</th>\n",
       "      <th>Skills</th>\n",
       "    </tr>\n",
       "  </thead>\n",
       "  <tbody>\n",
       "    <tr>\n",
       "      <th>0</th>\n",
       "      <td>0</td>\n",
       "      <td>Financial Analysis</td>\n",
       "      <td>Care Services EG -</td>\n",
       "      <td>Abbassia, Cairo, Egypt</td>\n",
       "      <td>Full Time</td>\n",
       "      <td>Experienced</td>\n",
       "      <td>2 - 4 Yrs of Exp</td>\n",
       "      <td>Accounting/Finance,Analyst/Research,Accounting...</td>\n",
       "    </tr>\n",
       "    <tr>\n",
       "      <th>1</th>\n",
       "      <td>1</td>\n",
       "      <td>Vulnerability Analysis &amp; Mapping Officer (Econ...</td>\n",
       "      <td>World Food Program - Other locations -</td>\n",
       "      <td>Cairo, Egypt</td>\n",
       "      <td>Full Time</td>\n",
       "      <td>Not specified</td>\n",
       "      <td>IT/Software Development</td>\n",
       "      <td>Project/Program Management,Engineering - Telec...</td>\n",
       "    </tr>\n",
       "    <tr>\n",
       "      <th>2</th>\n",
       "      <td>2</td>\n",
       "      <td>Financial Analysis &amp; Planning Manager</td>\n",
       "      <td>Kinetik People -</td>\n",
       "      <td>Cairo, Egypt</td>\n",
       "      <td>Full Time</td>\n",
       "      <td>Not specified</td>\n",
       "      <td>Accounting/Finance</td>\n",
       "      <td>Operations/Management,Analyst/Research,Financi...</td>\n",
       "    </tr>\n",
       "    <tr>\n",
       "      <th>3</th>\n",
       "      <td>3</td>\n",
       "      <td>Financial Planning &amp; Analysis Lead</td>\n",
       "      <td>Novartis ÖSterreich -</td>\n",
       "      <td>Cairo, Egypt</td>\n",
       "      <td>Full Time</td>\n",
       "      <td>Not specified</td>\n",
       "      <td>Accounting/Finance</td>\n",
       "      <td>Operations/Management,Analyst/Research,Finance...</td>\n",
       "    </tr>\n",
       "    <tr>\n",
       "      <th>4</th>\n",
       "      <td>4</td>\n",
       "      <td>Analysis and Reporting Manager</td>\n",
       "      <td>Antal International - Egypt -</td>\n",
       "      <td>Cairo, Egypt</td>\n",
       "      <td>Full Time</td>\n",
       "      <td>Not specified</td>\n",
       "      <td>Accounting/Finance</td>\n",
       "      <td>Operations/Management,Analyst/Research,Finance...</td>\n",
       "    </tr>\n",
       "  </tbody>\n",
       "</table>\n",
       "</div>"
      ],
      "text/plain": [
       "   Unnamed: 0                                          Job title  \\\n",
       "0           0                                 Financial Analysis   \n",
       "1           1  Vulnerability Analysis & Mapping Officer (Econ...   \n",
       "2           2              Financial Analysis & Planning Manager   \n",
       "3           3                 Financial Planning & Analysis Lead   \n",
       "4           4                     Analysis and Reporting Manager   \n",
       "\n",
       "                             Company name                 Location   Job type  \\\n",
       "0                      Care Services EG -  Abbassia, Cairo, Egypt   Full Time   \n",
       "1  World Food Program - Other locations -            Cairo, Egypt   Full Time   \n",
       "2                        Kinetik People -            Cairo, Egypt   Full Time   \n",
       "3                   Novartis ÖSterreich -            Cairo, Egypt   Full Time   \n",
       "4           Antal International - Egypt -            Cairo, Egypt   Full Time   \n",
       "\n",
       "       Exp level                Exp years  \\\n",
       "0    Experienced         2 - 4 Yrs of Exp   \n",
       "1  Not specified  IT/Software Development   \n",
       "2  Not specified       Accounting/Finance   \n",
       "3  Not specified       Accounting/Finance   \n",
       "4  Not specified       Accounting/Finance   \n",
       "\n",
       "                                              Skills  \n",
       "0  Accounting/Finance,Analyst/Research,Accounting...  \n",
       "1  Project/Program Management,Engineering - Telec...  \n",
       "2  Operations/Management,Analyst/Research,Financi...  \n",
       "3  Operations/Management,Analyst/Research,Finance...  \n",
       "4  Operations/Management,Analyst/Research,Finance...  "
      ]
     },
     "execution_count": 3,
     "metadata": {},
     "output_type": "execute_result"
    }
   ],
   "source": [
    "data.head()"
   ]
  },
  {
   "cell_type": "markdown",
   "id": "7e1ecfec",
   "metadata": {},
   "source": [
    "## More Info"
   ]
  },
  {
   "cell_type": "code",
   "execution_count": 4,
   "id": "e8ff7855",
   "metadata": {},
   "outputs": [
    {
     "name": "stdout",
     "output_type": "stream",
     "text": [
      "<class 'pandas.core.frame.DataFrame'>\n",
      "RangeIndex: 1617 entries, 0 to 1616\n",
      "Data columns (total 8 columns):\n",
      " #   Column        Non-Null Count  Dtype \n",
      "---  ------        --------------  ----- \n",
      " 0   Unnamed: 0    1617 non-null   int64 \n",
      " 1   Job title     1617 non-null   object\n",
      " 2   Company name  1617 non-null   object\n",
      " 3   Location      1617 non-null   object\n",
      " 4   Job type      1617 non-null   object\n",
      " 5   Exp level     1617 non-null   object\n",
      " 6   Exp years     1617 non-null   object\n",
      " 7   Skills        1617 non-null   object\n",
      "dtypes: int64(1), object(7)\n",
      "memory usage: 101.2+ KB\n"
     ]
    }
   ],
   "source": [
    "data.info()"
   ]
  },
  {
   "cell_type": "code",
   "execution_count": 5,
   "id": "f633c110",
   "metadata": {},
   "outputs": [
    {
     "data": {
      "text/html": [
       "<div>\n",
       "<style scoped>\n",
       "    .dataframe tbody tr th:only-of-type {\n",
       "        vertical-align: middle;\n",
       "    }\n",
       "\n",
       "    .dataframe tbody tr th {\n",
       "        vertical-align: top;\n",
       "    }\n",
       "\n",
       "    .dataframe thead th {\n",
       "        text-align: right;\n",
       "    }\n",
       "</style>\n",
       "<table border=\"1\" class=\"dataframe\">\n",
       "  <thead>\n",
       "    <tr style=\"text-align: right;\">\n",
       "      <th></th>\n",
       "      <th>Job title</th>\n",
       "      <th>Company name</th>\n",
       "      <th>Location</th>\n",
       "      <th>Job type</th>\n",
       "      <th>Exp level</th>\n",
       "      <th>Exp years</th>\n",
       "      <th>Skills</th>\n",
       "    </tr>\n",
       "  </thead>\n",
       "  <tbody>\n",
       "    <tr>\n",
       "      <th>count</th>\n",
       "      <td>1617</td>\n",
       "      <td>1617</td>\n",
       "      <td>1617</td>\n",
       "      <td>1617</td>\n",
       "      <td>1617</td>\n",
       "      <td>1617</td>\n",
       "      <td>1617</td>\n",
       "    </tr>\n",
       "    <tr>\n",
       "      <th>unique</th>\n",
       "      <td>1185</td>\n",
       "      <td>822</td>\n",
       "      <td>102</td>\n",
       "      <td>6</td>\n",
       "      <td>6</td>\n",
       "      <td>117</td>\n",
       "      <td>1540</td>\n",
       "    </tr>\n",
       "    <tr>\n",
       "      <th>top</th>\n",
       "      <td>Accountant</td>\n",
       "      <td>Confidential -</td>\n",
       "      <td>Cairo, Egypt</td>\n",
       "      <td>Full Time</td>\n",
       "      <td>Experienced</td>\n",
       "      <td>3 - 5 Yrs of Exp</td>\n",
       "      <td>Administration,Banking,Accounting,Finance,Fina...</td>\n",
       "    </tr>\n",
       "    <tr>\n",
       "      <th>freq</th>\n",
       "      <td>59</td>\n",
       "      <td>246</td>\n",
       "      <td>321</td>\n",
       "      <td>1590</td>\n",
       "      <td>937</td>\n",
       "      <td>180</td>\n",
       "      <td>5</td>\n",
       "    </tr>\n",
       "  </tbody>\n",
       "</table>\n",
       "</div>"
      ],
      "text/plain": [
       "         Job title    Company name       Location   Job type    Exp level  \\\n",
       "count         1617            1617           1617       1617         1617   \n",
       "unique        1185             822            102          6            6   \n",
       "top     Accountant  Confidential -  Cairo, Egypt   Full Time  Experienced   \n",
       "freq            59             246            321       1590          937   \n",
       "\n",
       "               Exp years                                             Skills  \n",
       "count               1617                                               1617  \n",
       "unique               117                                               1540  \n",
       "top     3 - 5 Yrs of Exp  Administration,Banking,Accounting,Finance,Fina...  \n",
       "freq                 180                                                  5  "
      ]
     },
     "execution_count": 5,
     "metadata": {},
     "output_type": "execute_result"
    }
   ],
   "source": [
    "data.describe(include = object)"
   ]
  },
  {
   "cell_type": "code",
   "execution_count": 6,
   "id": "a2de7793",
   "metadata": {},
   "outputs": [
    {
     "data": {
      "text/plain": [
       "0"
      ]
     },
     "execution_count": 6,
     "metadata": {},
     "output_type": "execute_result"
    }
   ],
   "source": [
    "# see if we duplicated rows\n",
    "\n",
    "data.duplicated().sum()"
   ]
  },
  {
   "cell_type": "markdown",
   "id": "455c0639",
   "metadata": {},
   "source": [
    "## Cleaning"
   ]
  },
  {
   "cell_type": "code",
   "execution_count": 7,
   "id": "eb678bc1",
   "metadata": {},
   "outputs": [],
   "source": [
    "# drop Unnamed: 0 column\n",
    "\n",
    "data.drop(columns = \"Unnamed: 0\", inplace = True)"
   ]
  },
  {
   "cell_type": "code",
   "execution_count": 8,
   "id": "ee8d9fed",
   "metadata": {},
   "outputs": [
    {
     "data": {
      "text/html": [
       "<div>\n",
       "<style scoped>\n",
       "    .dataframe tbody tr th:only-of-type {\n",
       "        vertical-align: middle;\n",
       "    }\n",
       "\n",
       "    .dataframe tbody tr th {\n",
       "        vertical-align: top;\n",
       "    }\n",
       "\n",
       "    .dataframe thead th {\n",
       "        text-align: right;\n",
       "    }\n",
       "</style>\n",
       "<table border=\"1\" class=\"dataframe\">\n",
       "  <thead>\n",
       "    <tr style=\"text-align: right;\">\n",
       "      <th></th>\n",
       "      <th>Job title</th>\n",
       "      <th>Company name</th>\n",
       "      <th>Location</th>\n",
       "      <th>Job type</th>\n",
       "      <th>Exp level</th>\n",
       "      <th>Exp years</th>\n",
       "      <th>Skills</th>\n",
       "    </tr>\n",
       "  </thead>\n",
       "  <tbody>\n",
       "    <tr>\n",
       "      <th>1417</th>\n",
       "      <td>PHP Back End Developer</td>\n",
       "      <td>Jumia -</td>\n",
       "      <td>New Cairo, Cairo, Egypt</td>\n",
       "      <td>Full Time</td>\n",
       "      <td>Experienced</td>\n",
       "      <td>3 - 7 Yrs of Exp</td>\n",
       "      <td>IT/Software Development,Engineering - Telecom/...</td>\n",
       "    </tr>\n",
       "    <tr>\n",
       "      <th>1305</th>\n",
       "      <td>Marketing Advisor</td>\n",
       "      <td>Alimento -</td>\n",
       "      <td>Madinaty, Cairo, Egypt</td>\n",
       "      <td>Full Time</td>\n",
       "      <td>Experienced</td>\n",
       "      <td>4 - 20 Yrs of Exp</td>\n",
       "      <td>Marketing/PR/Advertising,Marketing,sales skill...</td>\n",
       "    </tr>\n",
       "    <tr>\n",
       "      <th>394</th>\n",
       "      <td>National_Financial Analyst</td>\n",
       "      <td>Dubai Festival City -</td>\n",
       "      <td>Cairo, Egypt</td>\n",
       "      <td>Full Time</td>\n",
       "      <td>Not specified</td>\n",
       "      <td>Accounting/Finance</td>\n",
       "      <td>Project/Program Management,Analyst/Research,Fi...</td>\n",
       "    </tr>\n",
       "  </tbody>\n",
       "</table>\n",
       "</div>"
      ],
      "text/plain": [
       "                       Job title           Company name  \\\n",
       "1417      PHP Back End Developer                Jumia -   \n",
       "1305           Marketing Advisor             Alimento -   \n",
       "394   National_Financial Analyst  Dubai Festival City -   \n",
       "\n",
       "                      Location   Job type      Exp level           Exp years  \\\n",
       "1417  New Cairo, Cairo, Egypt   Full Time    Experienced    3 - 7 Yrs of Exp   \n",
       "1305   Madinaty, Cairo, Egypt   Full Time    Experienced   4 - 20 Yrs of Exp   \n",
       "394              Cairo, Egypt   Full Time  Not specified  Accounting/Finance   \n",
       "\n",
       "                                                 Skills  \n",
       "1417  IT/Software Development,Engineering - Telecom/...  \n",
       "1305  Marketing/PR/Advertising,Marketing,sales skill...  \n",
       "394   Project/Program Management,Analyst/Research,Fi...  "
      ]
     },
     "execution_count": 8,
     "metadata": {},
     "output_type": "execute_result"
    }
   ],
   "source": [
    "data.sample(3)"
   ]
  },
  {
   "cell_type": "code",
   "execution_count": 9,
   "id": "28a1ffe6",
   "metadata": {},
   "outputs": [],
   "source": [
    "# set style of visualization\n",
    "\n",
    "sns.set_style(\"whitegrid\")\n",
    "sns.set_palette(\"RdBu\")"
   ]
  },
  {
   "cell_type": "markdown",
   "id": "19280006",
   "metadata": {},
   "source": [
    "### Discovering `Job title` column"
   ]
  },
  {
   "cell_type": "code",
   "execution_count": 10,
   "id": "2d45df70",
   "metadata": {},
   "outputs": [
    {
     "data": {
      "text/plain": [
       "array(['Financial Analysis',\n",
       "       'Vulnerability Analysis & Mapping Officer (Economic/Policy Analyst)',\n",
       "       'Financial Analysis & Planning Manager',\n",
       "       'Financial Planning & Analysis Lead',\n",
       "       'Analysis and Reporting Manager',\n",
       "       'Senior Analyst,Financial Planning and Analysis',\n",
       "       'Financial Planning And Analysis Supervisor', 'data analysis',\n",
       "       'Financial Planning & Analysis Assistant Manager',\n",
       "       'Senior Financial Planning and Analysis (FP&A) Specialist',\n",
       "       'business analysis', 'Senior Financial Planning & Analysis',\n",
       "       'Budgeting & Financial Analysis Manager',\n",
       "       'Financial analysis accountant and balancers',\n",
       "       'Associate Manager - Financial Planning & Analysis',\n",
       "       'Sales support analysis', 'Marketing Research And Analysis',\n",
       "       'Senior Financial Planning and Analysis (FP&A)',\n",
       "       'Treasury Manager', 'Financial Analyst',\n",
       "       'Accounts Receivable Accountant (A/R Accountant)',\n",
       "       'Financial Planning & Controlling Intern', 'CFO',\n",
       "       'Quality Assurance Section Head', 'Finance Director',\n",
       "       'Chief Accountant', 'Chief Financial Officer', 'Business Analyst',\n",
       "       'Financial Auditor', 'Data Engineer',\n",
       "       'Financial Planning, Budgeting & Reporting Manager',\n",
       "       'Financial Analyst Lead', 'Monitoring Assistant SC, L5',\n",
       "       'System Analyst', 'National_Financial Analyst | Real Estate | CFC',\n",
       "       'Implementation Consultant', 'Senior Software Business Analysis',\n",
       "       'Senior GL & Treasury Accountant',\n",
       "       'Entry Level Associate Examiner (Full-time, Remote)',\n",
       "       'Senior Associate, Business Systems and Process Re-engineering',\n",
       "       'Head of Finance', 'Data Analytics', 'Chief Accounting',\n",
       "       'Financial Analyst - Innoventures', 'Accounting Manager',\n",
       "       'Senior Financial Analyst', 'Senior Business Analyst',\n",
       "       'Growth Marketing Hacker', 'Sales Manager', 'Accountant'],\n",
       "      dtype=object)"
      ]
     },
     "execution_count": 10,
     "metadata": {},
     "output_type": "execute_result"
    }
   ],
   "source": [
    "# see first 50 jobs title\n",
    "\n",
    "data[\"Job title\"].unique()[:50]"
   ]
  },
  {
   "cell_type": "code",
   "execution_count": 11,
   "id": "70824e56",
   "metadata": {},
   "outputs": [
    {
     "data": {
      "text/plain": [
       "Accountant                         59\n",
       "Finance Manager                    15\n",
       "General Accountant                 14\n",
       "Senior Accountant                  14\n",
       "Chief Accountant                   12\n",
       "Accounting Manager                 12\n",
       "Treasury Manager                   11\n",
       "Junior Accountant                  11\n",
       "Marketing Executive                11\n",
       "Financial Analyst                  10\n",
       "Internal Auditor                    9\n",
       "Planning Engineer                   9\n",
       "Cost Accountant                     9\n",
       "Internal Audit Manager              8\n",
       "Business Analyst                    8\n",
       "Senior Business Analyst             8\n",
       "Data Analyst                        7\n",
       "Financial Manager                   7\n",
       "Sales Marketing Executive           7\n",
       "Electrical Maintenance Engineer     6\n",
       "Name: Job title, dtype: int64"
      ]
     },
     "execution_count": 11,
     "metadata": {},
     "output_type": "execute_result"
    }
   ],
   "source": [
    "# see top 50 titles value count \n",
    "\n",
    "data[\"Job title\"].value_counts()[:20]"
   ]
  },
  {
   "cell_type": "code",
   "execution_count": 12,
   "id": "ce904633",
   "metadata": {},
   "outputs": [],
   "source": [
    "# function to remove wordes in Brackets\n",
    "def remove_Brackets(title):\n",
    "    \n",
    "    return title.split('(')[0].strip()\n",
    "     \n",
    "# function to remove words after Vertical Line\n",
    "def remove_VerticalLine(title):\n",
    "    return title.split(\"|\")[0]\n",
    "\n",
    "# function to remove Hyphen\n",
    "def remove_hyphen(title):\n",
    "    return title.split(\" - \")[0]\n",
    "\n",
    "# function to remove &\n",
    "def remove_and(title):\n",
    "    return title.split(\" & \")[0]\n",
    "    \n",
    "# apply remove Brackets function \n",
    "data[\"Job title\"] = data[\"Job title\"].apply(remove_Brackets)\n",
    "\n",
    "# apply remove Vertical Line function \n",
    "data[\"Job title\"] = data[\"Job title\"].apply(remove_VerticalLine)\n",
    "\n",
    "# apply remove Hyphen function\n",
    "data[\"Job title\"] = data[\"Job title\"].apply(remove_hyphen)\n",
    "\n",
    "# apply remove & function\n",
    "data[\"Job title\"] = data[\"Job title\"].apply(remove_and)"
   ]
  },
  {
   "cell_type": "code",
   "execution_count": 13,
   "id": "dcb57158",
   "metadata": {},
   "outputs": [
    {
     "data": {
      "text/plain": [
       "array(['Financial Analysis', 'Vulnerability Analysis',\n",
       "       'Financial Planning', 'Analysis and Reporting Manager',\n",
       "       'Senior Analyst,Financial Planning and Analysis',\n",
       "       'Financial Planning And Analysis Supervisor', 'data analysis',\n",
       "       'Senior Financial Planning and Analysis', 'business analysis',\n",
       "       'Senior Financial Planning', 'Budgeting',\n",
       "       'Financial analysis accountant and balancers', 'Associate Manager',\n",
       "       'Sales support analysis', 'Marketing Research And Analysis',\n",
       "       'Treasury Manager', 'Financial Analyst',\n",
       "       'Accounts Receivable Accountant', 'CFO',\n",
       "       'Quality Assurance Section Head', 'Finance Director',\n",
       "       'Chief Accountant', 'Chief Financial Officer', 'Business Analyst',\n",
       "       'Financial Auditor', 'Data Engineer',\n",
       "       'Financial Planning, Budgeting', 'Financial Analyst Lead',\n",
       "       'Monitoring Assistant SC, L5', 'System Analyst',\n",
       "       'National_Financial Analyst ', 'Implementation Consultant',\n",
       "       'Senior Software Business Analysis', 'Senior GL',\n",
       "       'Entry Level Associate Examiner',\n",
       "       'Senior Associate, Business Systems and Process Re-engineering',\n",
       "       'Head of Finance', 'Data Analytics', 'Chief Accounting',\n",
       "       'Accounting Manager', 'Senior Financial Analyst',\n",
       "       'Senior Business Analyst', 'Growth Marketing Hacker',\n",
       "       'Sales Manager', 'Accountant', 'Business Analyst Lead',\n",
       "       'Senior Cost Accountant', 'Software Business Analyst',\n",
       "       'Business Analyst Specialist', 'Data Analyst'], dtype=object)"
      ]
     },
     "execution_count": 13,
     "metadata": {},
     "output_type": "execute_result"
    }
   ],
   "source": [
    "data[\"Job title\"].unique()[:50]"
   ]
  },
  {
   "cell_type": "code",
   "execution_count": 14,
   "id": "b23fe4f0",
   "metadata": {},
   "outputs": [
    {
     "data": {
      "text/plain": [
       "Accountant                   69\n",
       "Finance Manager              19\n",
       "Senior Accountant            18\n",
       "General Accountant           17\n",
       "Chief Accountant             15\n",
       "Accounting Manager           15\n",
       "Financial Analyst            13\n",
       "Treasury Manager             12\n",
       "Marketing Executive          12\n",
       "Junior Accountant            11\n",
       "Financial Manager            11\n",
       "Planning Engineer            10\n",
       "Business Analyst             10\n",
       "Internal Auditor              9\n",
       "Cost Accountant               9\n",
       "Data Analyst                  8\n",
       "Senior Business Analyst       8\n",
       "Internal Audit Manager        8\n",
       "Sales Marketing Executive     7\n",
       "Purchasing Manager            7\n",
       "Name: Job title, dtype: int64"
      ]
     },
     "execution_count": 14,
     "metadata": {},
     "output_type": "execute_result"
    }
   ],
   "source": [
    "data[\"Job title\"].value_counts()[:20]"
   ]
  },
  {
   "cell_type": "markdown",
   "id": "b74ea221",
   "metadata": {},
   "source": [
    "-  `We don't need to clean the column any more, but it still needs cleaning`"
   ]
  },
  {
   "cell_type": "markdown",
   "id": "632d6acb",
   "metadata": {},
   "source": [
    "### Discovering `Company name` column"
   ]
  },
  {
   "cell_type": "code",
   "execution_count": 15,
   "id": "d8afad66",
   "metadata": {
    "scrolled": false
   },
   "outputs": [
    {
     "data": {
      "text/plain": [
       "array(['Care Services EG -', 'World Food Program - Other locations -',\n",
       "       'Kinetik People -', 'Novartis ÖSterreich -',\n",
       "       'Antal International - Egypt -', 'S. C. Johnson & Son, Inc. -',\n",
       "       'Confidential -', 'Network International -Egypt -', 'ARPUPLUS -',\n",
       "       'B-Solution -', 'Royal Investment -', 'Fine Hygienic Holding -',\n",
       "       'Selah ElTelmeez For Publishing & printing -', 'Spinneys Egypt -',\n",
       "       'MTS Logistics -', 'Target Recruitment  & HR Solutions  -',\n",
       "       'ABCO Group  -',\n",
       "       'Prometeon Tyres Group – Egypt  (Ex-Pirelli Tyres Egypt) -',\n",
       "       'OTI ESTATE -', 'M&A Glass Processing Company  -',\n",
       "       'Decorative Glass And Arab Union Glass Group -',\n",
       "       'Talaat Moustafa Group -', 'Egabi FSI -', 'Engosoft -',\n",
       "       'UMX Studio -', 'Amasi -', 'Transmar International  -',\n",
       "       'IT Pillars -', 'Al Futtaim Private Company LLC -',\n",
       "       'Dubai Festival City -', 'Software House Solution  -',\n",
       "       'GET Group- Egypt -', 'Fawry Plus -', 'Intaratalent -',\n",
       "       'Flutterwave -', 'Dubizzle MENA -', 'DXC.technology -',\n",
       "       'Fawry for Banking Technology and Electronic Payments S.A.E -',\n",
       "       'Cultiv -', 'Synergy Markets -', 'Coral Technology -',\n",
       "       'Future Group -', 'Naguib Selim -', 'Lumin -', 'Dexef -',\n",
       "       'qTech.  -', 'Dawi Clinics -', 'Erada -', 'Yassir -', 'Simplex -'],\n",
       "      dtype=object)"
      ]
     },
     "execution_count": 15,
     "metadata": {},
     "output_type": "execute_result"
    }
   ],
   "source": [
    "data[\"Company name\"].unique()[:50]"
   ]
  },
  {
   "cell_type": "code",
   "execution_count": 16,
   "id": "7598ab4c",
   "metadata": {},
   "outputs": [],
   "source": [
    "# company name contain extra words will drop it\n",
    "\n",
    "def remove_extraWords(name):\n",
    "    return name.split(\" -\")[0]\n",
    "\n",
    "data[\"Company name\"] = data[\"Company name\"].apply(remove_extraWords)"
   ]
  },
  {
   "cell_type": "code",
   "execution_count": 17,
   "id": "9eb041c6",
   "metadata": {},
   "outputs": [
    {
     "data": {
      "text/plain": [
       "array(['Care Services EG', 'World Food Program', 'Kinetik People',\n",
       "       'Novartis ÖSterreich', 'Antal International',\n",
       "       'S. C. Johnson & Son, Inc.', 'Confidential',\n",
       "       'Network International', 'ARPUPLUS', 'B-Solution',\n",
       "       'Royal Investment', 'Fine Hygienic Holding',\n",
       "       'Selah ElTelmeez For Publishing & printing', 'Spinneys Egypt',\n",
       "       'MTS Logistics', 'Target Recruitment  & HR Solutions ',\n",
       "       'ABCO Group ',\n",
       "       'Prometeon Tyres Group – Egypt  (Ex-Pirelli Tyres Egypt)',\n",
       "       'OTI ESTATE', 'M&A Glass Processing Company ',\n",
       "       'Decorative Glass And Arab Union Glass Group',\n",
       "       'Talaat Moustafa Group', 'Egabi FSI', 'Engosoft', 'UMX Studio',\n",
       "       'Amasi', 'Transmar International ', 'IT Pillars',\n",
       "       'Al Futtaim Private Company LLC', 'Dubai Festival City',\n",
       "       'Software House Solution ', 'GET Group- Egypt', 'Fawry Plus',\n",
       "       'Intaratalent', 'Flutterwave', 'Dubizzle MENA', 'DXC.technology',\n",
       "       'Fawry for Banking Technology and Electronic Payments S.A.E',\n",
       "       'Cultiv', 'Synergy Markets', 'Coral Technology', 'Future Group',\n",
       "       'Naguib Selim', 'Lumin', 'Dexef', 'qTech. ', 'Dawi Clinics',\n",
       "       'Erada', 'Yassir', 'Simplex'], dtype=object)"
      ]
     },
     "execution_count": 17,
     "metadata": {},
     "output_type": "execute_result"
    }
   ],
   "source": [
    "data[\"Company name\"].unique()[:50]"
   ]
  },
  {
   "cell_type": "code",
   "execution_count": 18,
   "id": "264302da",
   "metadata": {},
   "outputs": [
    {
     "data": {
      "text/plain": [
       "Confidential                                                  246\n",
       "AlGammal Contracting                                           15\n",
       "Fawry for Banking Technology and Electronic Payments S.A.E     14\n",
       "Talaat Moustafa Group                                          13\n",
       "Network International                                          10\n",
       "PricewaterhouseCoopers                                          7\n",
       "Ibn Sina Pharma                                                 7\n",
       "Argaam                                                          7\n",
       "Pillars                                                         7\n",
       "Sceel.io                                                        6\n",
       "PwC Middle East                                                 6\n",
       "Ejada                                                           6\n",
       "Thaka International                                             6\n",
       "Kandil Industries                                               6\n",
       "Venus International Free Zone                                   6\n",
       "World Food Program                                              6\n",
       "Antal International                                             6\n",
       "Erada                                                           6\n",
       "Xceed Contact Center                                            5\n",
       "COLAS RAIL Egypt                                                5\n",
       "Name: Company name, dtype: int64"
      ]
     },
     "execution_count": 18,
     "metadata": {},
     "output_type": "execute_result"
    }
   ],
   "source": [
    "data[\"Company name\"].value_counts()[:20]"
   ]
  },
  {
   "cell_type": "markdown",
   "id": "9cb473f3",
   "metadata": {},
   "source": [
    "### Discovering `Location` column"
   ]
  },
  {
   "cell_type": "code",
   "execution_count": 19,
   "id": "17c1a10d",
   "metadata": {
    "scrolled": false
   },
   "outputs": [
    {
     "name": "stdout",
     "output_type": "stream",
     "text": [
      " Number of unique values is : 102\n",
      "------------------------------\n",
      "['Abbassia, Cairo, Egypt ' 'Cairo, Egypt ' 'Mohandessin, Giza, Egypt '\n",
      " 'New Cairo, Cairo, Egypt ' 'Giza, Egypt ' '6th of October, Giza, Egypt '\n",
      " 'Gharbia, Egypt ' 'Obour City, Cairo, Egypt ' 'Maadi, Cairo, Egypt '\n",
      " 'Alexandria, Egypt ' 'Mansoura, Dakahlia, Egypt '\n",
      " 'Nasr City, Cairo, Egypt ' 'Sheraton, Cairo, Egypt '\n",
      " 'Dokki, Giza, Egypt ' 'Heliopolis, Cairo, Egypt '\n",
      " 'Smart Village, Giza, Egypt ' '10th of Ramadan City, Cairo, Egypt '\n",
      " 'Sheikh Zayed, Giza, Egypt ' 'Quweisna, Monufya, Egypt '\n",
      " 'Abu Rawash, Giza, Egypt ' 'Qanater Khairya, Qalubia, Egypt '\n",
      " 'Nozha, Cairo, Egypt ' 'Ataqah, Suez, Egypt ' 'Talkha, Dakahlia, Egypt '\n",
      " 'Wadi Alnatrun, Beheira, Egypt ' 'Rehab City, Cairo, Egypt '\n",
      " 'Bourj Alarab, Alexandria, Egypt ' 'Mokattam, Cairo, Egypt '\n",
      " '10th of Ramadan City, Sharqia, Egypt ' 'Badr City, Cairo, Egypt '\n",
      " 'Garden City, Cairo, Egypt ' 'Ain Sokhna, Suez, Egypt '\n",
      " 'Safaga, Red Sea, Egypt ' 'San Stefano, Alexandria, Egypt '\n",
      " 'Shorouk City, Cairo, Egypt ' 'Hadayek October, Giza, Egypt '\n",
      " 'Baltim, Kafr Alsheikh, Egypt ' 'Naseria, Alexandria, Egypt '\n",
      " 'Ismailia, Egypt ' 'Katameya, Cairo, Egypt '\n",
      " 'Sidi Bishr, Alexandria, Egypt ' 'Mahta Alraml, Alexandria, Egypt '\n",
      " 'Bab Sharq, Alexandria, Egypt ' 'New Heliopolis, Cairo, Egypt '\n",
      " 'Haram, Giza, Egypt ' 'Ameria, Alexandria, Egypt '\n",
      " 'Mandara, Alexandria, Egypt ' 'New Nozha, Cairo, Egypt '\n",
      " 'Helwan, Cairo, Egypt ' 'Zamalek, Cairo, Egypt ']\n"
     ]
    }
   ],
   "source": [
    "print(f\" Number of unique values is : {data['Location'].nunique()}\")\n",
    "print(\"-\" * 30)\n",
    "print(data[\"Location\"].unique()[:50])"
   ]
  },
  {
   "cell_type": "code",
   "execution_count": 20,
   "id": "b968acce",
   "metadata": {},
   "outputs": [
    {
     "data": {
      "text/plain": [
       "Cairo, Egypt                    321\n",
       "New Cairo, Cairo, Egypt         150\n",
       "Maadi, Cairo, Egypt             144\n",
       "Nasr City, Cairo, Egypt         125\n",
       "6th of October, Giza, Egypt     119\n",
       "                               ... \n",
       "Darrasa, Cairo, Egypt             1\n",
       "Talkha, Dakahlia, Egypt           1\n",
       "Mandara, Alexandria, Egypt        1\n",
       "Ismailia, Ismailia, Egypt         1\n",
       "Dawahi, Port Said, Egypt          1\n",
       "Name: Location, Length: 102, dtype: int64"
      ]
     },
     "execution_count": 20,
     "metadata": {},
     "output_type": "execute_result"
    }
   ],
   "source": [
    "data[\"Location\"].value_counts()"
   ]
  },
  {
   "cell_type": "code",
   "execution_count": 21,
   "id": "fc307193",
   "metadata": {},
   "outputs": [],
   "source": [
    "# remove Egypt word\n",
    "\n",
    "def remove_country(country):\n",
    "    return country.replace(\", Egypt\", \"\").strip()\n",
    "\n",
    "data[\"Location\"] = data[\"Location\"].apply(remove_country)"
   ]
  },
  {
   "cell_type": "code",
   "execution_count": 22,
   "id": "e9a6e661",
   "metadata": {},
   "outputs": [
    {
     "name": "stdout",
     "output_type": "stream",
     "text": [
      "['Abbassia, Cairo' 'Cairo' 'Mohandessin, Giza' 'New Cairo, Cairo' 'Giza'\n",
      " '6th of October, Giza' 'Gharbia' 'Obour City, Cairo' 'Maadi, Cairo'\n",
      " 'Alexandria' 'Mansoura, Dakahlia' 'Nasr City, Cairo' 'Sheraton, Cairo'\n",
      " 'Dokki, Giza' 'Heliopolis, Cairo' 'Smart Village, Giza'\n",
      " '10th of Ramadan City, Cairo' 'Sheikh Zayed, Giza' 'Quweisna, Monufya'\n",
      " 'Abu Rawash, Giza' 'Qanater Khairya, Qalubia' 'Nozha, Cairo'\n",
      " 'Ataqah, Suez' 'Talkha, Dakahlia' 'Wadi Alnatrun, Beheira'\n",
      " 'Rehab City, Cairo' 'Bourj Alarab, Alexandria' 'Mokattam, Cairo'\n",
      " '10th of Ramadan City, Sharqia' 'Badr City, Cairo' 'Garden City, Cairo'\n",
      " 'Ain Sokhna, Suez' 'Safaga, Red Sea' 'San Stefano, Alexandria'\n",
      " 'Shorouk City, Cairo' 'Hadayek October, Giza' 'Baltim, Kafr Alsheikh'\n",
      " 'Naseria, Alexandria' 'Ismailia' 'Katameya, Cairo'\n",
      " 'Sidi Bishr, Alexandria' 'Mahta Alraml, Alexandria'\n",
      " 'Bab Sharq, Alexandria' 'New Heliopolis, Cairo' 'Haram, Giza'\n",
      " 'Ameria, Alexandria' 'Mandara, Alexandria' 'New Nozha, Cairo'\n",
      " 'Helwan, Cairo' 'Zamalek, Cairo']\n"
     ]
    }
   ],
   "source": [
    "print(data[\"Location\"].unique()[:50])"
   ]
  },
  {
   "cell_type": "markdown",
   "id": "3dd63a49",
   "metadata": {},
   "source": [
    "### Discovering `Job type` column"
   ]
  },
  {
   "cell_type": "code",
   "execution_count": 23,
   "id": "3e978284",
   "metadata": {},
   "outputs": [
    {
     "data": {
      "text/plain": [
       "array(['Full Time', 'Internship', 'Part Time', 'Work From Home',\n",
       "       'Freelance / Project', 'Shift Based'], dtype=object)"
      ]
     },
     "execution_count": 23,
     "metadata": {},
     "output_type": "execute_result"
    }
   ],
   "source": [
    "data[\"Job type\"].unique()"
   ]
  },
  {
   "cell_type": "code",
   "execution_count": 24,
   "id": "028a1d89",
   "metadata": {},
   "outputs": [],
   "source": [
    "# replace 'Freelance / Project' / Project' to Freelance\n",
    "\n",
    "data[\"Job type\"].replace('Freelance / Project', 'Freelance', inplace = True)"
   ]
  },
  {
   "cell_type": "code",
   "execution_count": 25,
   "id": "b194eaa0",
   "metadata": {},
   "outputs": [
    {
     "data": {
      "text/plain": [
       "Full Time         1590\n",
       "Internship          11\n",
       "Part Time            7\n",
       "Freelance            5\n",
       "Work From Home       3\n",
       "Shift Based          1\n",
       "Name: Job type, dtype: int64"
      ]
     },
     "execution_count": 25,
     "metadata": {},
     "output_type": "execute_result"
    }
   ],
   "source": [
    "# see value counts of each unique value\n",
    "\n",
    "data[\"Job type\"].value_counts()"
   ]
  },
  {
   "cell_type": "markdown",
   "id": "0746e813",
   "metadata": {},
   "source": [
    "### Discovering `Exp level` column"
   ]
  },
  {
   "cell_type": "code",
   "execution_count": 26,
   "id": "ad671aff",
   "metadata": {},
   "outputs": [
    {
     "data": {
      "text/plain": [
       "array(['Experienced', 'Not specified', 'Entry Level', 'Senior Management',\n",
       "       'Manager', 'Student'], dtype=object)"
      ]
     },
     "execution_count": 26,
     "metadata": {},
     "output_type": "execute_result"
    }
   ],
   "source": [
    "data[\"Exp level\"].unique()"
   ]
  },
  {
   "cell_type": "code",
   "execution_count": 27,
   "id": "46c2fc3f",
   "metadata": {},
   "outputs": [
    {
     "data": {
      "text/plain": [
       "Experienced          937\n",
       "Manager              257\n",
       "Entry Level          212\n",
       "Not specified        169\n",
       "Senior Management     41\n",
       "Student                1\n",
       "Name: Exp level, dtype: int64"
      ]
     },
     "execution_count": 27,
     "metadata": {},
     "output_type": "execute_result"
    }
   ],
   "source": [
    "# see value counts of each unique value\n",
    "\n",
    "data[\"Exp level\"].value_counts()"
   ]
  },
  {
   "cell_type": "markdown",
   "id": "e3051985",
   "metadata": {},
   "source": [
    "- ### `I think we have no problem with this column`"
   ]
  },
  {
   "cell_type": "markdown",
   "id": "924f51ee",
   "metadata": {},
   "source": [
    "### Discovering `Exp years` column"
   ]
  },
  {
   "cell_type": "code",
   "execution_count": 28,
   "id": "49115144",
   "metadata": {},
   "outputs": [
    {
     "data": {
      "text/plain": [
       "array(['2 - 4 Yrs of Exp', 'IT/Software Development',\n",
       "       'Accounting/Finance', '4 - 7 Yrs of Exp', '10 - 11 Yrs of Exp',\n",
       "       '3 - 5 Yrs of Exp', '1 - 20 Yrs of Exp', '8 - 10 Yrs of Exp',\n",
       "       '5 - 7 Yrs of Exp', '1 - 3 Yrs of Exp', '3 - 7 Yrs of Exp',\n",
       "       '4 - 5 Yrs of Exp', '10 - 15 Yrs of Exp', '5 - 9 Yrs of Exp',\n",
       "       '15+ Yrs of Exp', '10 - 13 Yrs of Exp', '2 - 6 Yrs of Exp',\n",
       "       '13 - 15 Yrs of Exp', '3 - 6 Yrs of Exp', '10+ Yrs of Exp',\n",
       "       '5 - 8 Yrs of Exp', '1 - 2 Yrs of Exp', '4+ Yrs of Exp',\n",
       "       '8 - 12 Yrs of Exp', '2 - 5 Yrs of Exp', '5 - 10 Yrs of Exp',\n",
       "       '3+ Yrs of Exp', '7+ Yrs of Exp', '1+ Yrs of Exp',\n",
       "       '10 - 20 Yrs of Exp', '1 - 4 Yrs of Exp', '15 - 20 Yrs of Exp',\n",
       "       '5+ Yrs of Exp', '10 - 17 Yrs of Exp', '7 - 9 Yrs of Exp',\n",
       "       '0 - 2 Yrs of Exp', '6 - 8 Yrs of Exp', '2 - 3 Yrs of Exp',\n",
       "       '5 - 12 Yrs of Exp', '2 - 8 Yrs of Exp', '1 - 5 Yrs of Exp',\n",
       "       '0 - 1 Yrs of Exp', '7 - 15 Yrs of Exp', '5 - 6 Yrs of Exp',\n",
       "       '7 - 8 Yrs of Exp', '5 - 15 Yrs of Exp',\n",
       "       'Customer Service/Support', '14 - 16 Yrs of Exp',\n",
       "       '4 - 6 Yrs of Exp', '3 - 12 Yrs of Exp', '0 - 5 Yrs of Exp',\n",
       "       '7 - 10 Yrs of Exp', '4 - 8 Yrs of Exp', '10 - 12 Yrs of Exp',\n",
       "       '0 - 3 Yrs of Exp', 'Business Development', '6 - 10 Yrs of Exp',\n",
       "       'Administration', '2+ Yrs of Exp', 'Operations/Management',\n",
       "       '8 - 20 Yrs of Exp', '7 - 20 Yrs of Exp', '3 - 4 Yrs of Exp',\n",
       "       'Marketing/PR/Advertising', 'Logistics/Supply Chain',\n",
       "       '8 - 15 Yrs of Exp', '10 - 14 Yrs of Exp', '10 - 10 Yrs of Exp',\n",
       "       '12 - 16 Yrs of Exp', '12 - 15 Yrs of Exp', '20+ Yrs of Exp',\n",
       "       '3 - 3 Yrs of Exp', '9+ Yrs of Exp', '3 - 8 Yrs of Exp',\n",
       "       '6+ Yrs of Exp', '3 - 20 Yrs of Exp', '9 - 15 Yrs of Exp',\n",
       "       '0 - 4 Yrs of Exp', '12+ Yrs of Exp', '8+ Yrs of Exp',\n",
       "       '5 - 5 Yrs of Exp', '4 - 10 Yrs of Exp', '6 - 9 Yrs of Exp',\n",
       "       '2 - 7 Yrs of Exp', '10 - 18 Yrs of Exp', '2 - 10 Yrs of Exp',\n",
       "       '3 - 10 Yrs of Exp', 'Human Resources', 'Medical/Healthcare',\n",
       "       '6 - 15 Yrs of Exp', '6 - 7 Yrs of Exp',\n",
       "       'Installation/Maintenance/Repair', 'Writing/Editorial',\n",
       "       '1 - 6 Yrs of Exp', 'Purchasing/Procurement',\n",
       "       'Engineering - Construction/Civil/Architecture', 'Sales/Retail',\n",
       "       'Training/Instructor', '1 - 7 Yrs of Exp', 'Creative/Design/Art',\n",
       "       '9 - 12 Yrs of Exp', 'Engineering - Mechanical/Electrical',\n",
       "       'R&D/Science', '1 - 8 Yrs of Exp', '7 - 12 Yrs of Exp',\n",
       "       '12 - 14 Yrs of Exp', '5 - 20 Yrs of Exp', '1 - 10 Yrs of Exp',\n",
       "       '9 - 14 Yrs of Exp', '3 - 9 Yrs of Exp', '4 - 20 Yrs of Exp',\n",
       "       '7 - 13 Yrs of Exp', '9 - 11 Yrs of Exp', 'Banking',\n",
       "       '0 - 10 Yrs of Exp', '7 - 11 Yrs of Exp', '1 - 1 Yrs of Exp'],\n",
       "      dtype=object)"
      ]
     },
     "execution_count": 28,
     "metadata": {},
     "output_type": "execute_result"
    }
   ],
   "source": [
    "data['Exp years'].unique()"
   ]
  },
  {
   "cell_type": "markdown",
   "id": "d071aa01",
   "metadata": {},
   "source": [
    "- First we need to remove this part \"Yrs of Exp\" from each value.\n",
    "- There are many wrong values because the actual value is zero."
   ]
  },
  {
   "cell_type": "code",
   "execution_count": 29,
   "id": "8322aee8",
   "metadata": {},
   "outputs": [],
   "source": [
    "# function to extract experience year\n",
    "\n",
    "def extract_numiric_values(value):\n",
    "      return re.sub(r\"[^0-9-]\", \"\", value)\n",
    "    \n",
    "data[\"Exp years\"] = data[\"Exp years\"].apply(extract_numiric_values)"
   ]
  },
  {
   "cell_type": "code",
   "execution_count": 30,
   "id": "c4ccda92",
   "metadata": {},
   "outputs": [
    {
     "data": {
      "text/plain": [
       "array(['2-4', '', '4-7', '10-11', '3-5', '1-20', '8-10', '5-7', '1-3',\n",
       "       '3-7', '4-5', '10-15', '5-9', '15', '10-13', '2-6', '13-15', '3-6',\n",
       "       '10', '5-8', '1-2', '4', '8-12', '2-5', '5-10', '3', '7', '1',\n",
       "       '10-20', '1-4', '15-20', '5', '10-17', '7-9', '0-2', '6-8', '2-3',\n",
       "       '5-12', '2-8', '1-5', '0-1', '7-15', '5-6', '7-8', '5-15', '14-16',\n",
       "       '4-6', '3-12', '0-5', '7-10', '4-8', '10-12', '0-3', '6-10', '2',\n",
       "       '8-20', '7-20', '3-4', '8-15', '10-14', '10-10', '12-16', '12-15',\n",
       "       '20', '3-3', '9', '3-8', '6', '3-20', '9-15', '0-4', '12', '8',\n",
       "       '5-5', '4-10', '6-9', '2-7', '10-18', '2-10', '3-10', '6-15',\n",
       "       '6-7', '1-6', '-', '1-7', '9-12', '1-8', '7-12', '12-14', '5-20',\n",
       "       '1-10', '9-14', '3-9', '4-20', '7-13', '9-11', '0-10', '7-11',\n",
       "       '1-1'], dtype=object)"
      ]
     },
     "execution_count": 30,
     "metadata": {},
     "output_type": "execute_result"
    }
   ],
   "source": [
    "data[\"Exp years\"].unique()"
   ]
  },
  {
   "cell_type": "code",
   "execution_count": 31,
   "id": "78978a9b",
   "metadata": {},
   "outputs": [],
   "source": [
    "# function to replace empty string or Hyphen to zero\n",
    "\n",
    "def replace_empty_and_Hyphen_toZero(value):\n",
    "    return '0' if value in ['', '-'] else value\n",
    "\n",
    "data[\"Exp years\"] = data[\"Exp years\"].apply(replace_empty_and_Hyphen_toZero)"
   ]
  },
  {
   "cell_type": "code",
   "execution_count": 32,
   "id": "5ae9d3c2",
   "metadata": {},
   "outputs": [
    {
     "data": {
      "text/plain": [
       "array(['2-4', '0', '4-7', '10-11', '3-5', '1-20', '8-10', '5-7', '1-3',\n",
       "       '3-7', '4-5', '10-15', '5-9', '15', '10-13', '2-6', '13-15', '3-6',\n",
       "       '10', '5-8', '1-2', '4', '8-12', '2-5', '5-10', '3', '7', '1',\n",
       "       '10-20', '1-4', '15-20', '5', '10-17', '7-9', '0-2', '6-8', '2-3',\n",
       "       '5-12', '2-8', '1-5', '0-1', '7-15', '5-6', '7-8', '5-15', '14-16',\n",
       "       '4-6', '3-12', '0-5', '7-10', '4-8', '10-12', '0-3', '6-10', '2',\n",
       "       '8-20', '7-20', '3-4', '8-15', '10-14', '10-10', '12-16', '12-15',\n",
       "       '20', '3-3', '9', '3-8', '6', '3-20', '9-15', '0-4', '12', '8',\n",
       "       '5-5', '4-10', '6-9', '2-7', '10-18', '2-10', '3-10', '6-15',\n",
       "       '6-7', '1-6', '1-7', '9-12', '1-8', '7-12', '12-14', '5-20',\n",
       "       '1-10', '9-14', '3-9', '4-20', '7-13', '9-11', '0-10', '7-11',\n",
       "       '1-1'], dtype=object)"
      ]
     },
     "execution_count": 32,
     "metadata": {},
     "output_type": "execute_result"
    }
   ],
   "source": [
    "data[\"Exp years\"].unique()"
   ]
  },
  {
   "cell_type": "code",
   "execution_count": 33,
   "id": "70c44edc",
   "metadata": {},
   "outputs": [],
   "source": [
    "# function to clean column\n",
    "\n",
    "def clean_experience(value):\n",
    "    \"\"\"\n",
    "    replace values like '10-10', '3-3, '5-5' to '10', '3', '5'\n",
    "    \"\"\"\n",
    "    parts = value.split('-')\n",
    "    \n",
    "    # Check if there are exactly two parts and they are equal\n",
    "    if len(parts) == 2 and parts[0] == parts[1]:\n",
    "        return parts[0]  # If equal, return only one part\n",
    "    else:\n",
    "        return value  # If not equal or not two parts, return the original value unchanged\n",
    "    \n",
    "data[\"Exp years\"] = data[\"Exp years\"].apply(clean_experience)"
   ]
  },
  {
   "cell_type": "code",
   "execution_count": 34,
   "id": "e6c03994",
   "metadata": {},
   "outputs": [
    {
     "data": {
      "text/plain": [
       "array(['2-4', '0', '4-7', '10-11', '3-5', '1-20', '8-10', '5-7', '1-3',\n",
       "       '3-7', '4-5', '10-15', '5-9', '15', '10-13', '2-6', '13-15', '3-6',\n",
       "       '10', '5-8', '1-2', '4', '8-12', '2-5', '5-10', '3', '7', '1',\n",
       "       '10-20', '1-4', '15-20', '5', '10-17', '7-9', '0-2', '6-8', '2-3',\n",
       "       '5-12', '2-8', '1-5', '0-1', '7-15', '5-6', '7-8', '5-15', '14-16',\n",
       "       '4-6', '3-12', '0-5', '7-10', '4-8', '10-12', '0-3', '6-10', '2',\n",
       "       '8-20', '7-20', '3-4', '8-15', '10-14', '12-16', '12-15', '20',\n",
       "       '9', '3-8', '6', '3-20', '9-15', '0-4', '12', '8', '4-10', '6-9',\n",
       "       '2-7', '10-18', '2-10', '3-10', '6-15', '6-7', '1-6', '1-7',\n",
       "       '9-12', '1-8', '7-12', '12-14', '5-20', '1-10', '9-14', '3-9',\n",
       "       '4-20', '7-13', '9-11', '0-10', '7-11'], dtype=object)"
      ]
     },
     "execution_count": 34,
     "metadata": {},
     "output_type": "execute_result"
    }
   ],
   "source": [
    "data[\"Exp years\"].unique()"
   ]
  },
  {
   "cell_type": "code",
   "execution_count": 35,
   "id": "d7688c38",
   "metadata": {},
   "outputs": [
    {
     "data": {
      "text/plain": [
       "['20']"
      ]
     },
     "execution_count": 35,
     "metadata": {},
     "output_type": "execute_result"
    }
   ],
   "source": [
    "# Converts single values in the list to range format by matching them to existing ranges.\n",
    "\n",
    "def find_single_values():\n",
    "    single_values = []\n",
    "    \n",
    "    for value in data[\"Exp years\"].unique().tolist():\n",
    "        if len(value) < 3  and value != '0' : \n",
    "            single_values.append(value)\n",
    "    \n",
    "            \n",
    "    for Exp in data[\"Exp years\"].unique().tolist():\n",
    "        left_Right = Exp.split('-')\n",
    "        if len(left_Right) == 2 and left_Right[0] in single_values:\n",
    "            data[\"Exp years\"].replace(left_Right[0], Exp, inplace = True)\n",
    "            single_values.remove(left_Right[0])\n",
    "            \n",
    "    return single_values\n",
    "            \n",
    "find_single_values()        "
   ]
  },
  {
   "cell_type": "markdown",
   "id": "5bf188d4",
   "metadata": {},
   "source": [
    "- single values list still include `20`\n",
    "- Because the required level of experience was a manager, Experienced and Senior Management, it requires many years of experience, so I will leave it as it is"
   ]
  },
  {
   "cell_type": "code",
   "execution_count": 36,
   "id": "667e25be",
   "metadata": {},
   "outputs": [
    {
     "data": {
      "text/plain": [
       "array(['2-4', '0', '4-7', '10-11', '3-5', '1-20', '8-10', '5-7', '1-3',\n",
       "       '3-7', '4-5', '10-15', '5-9', '15-20', '10-13', '2-6', '13-15',\n",
       "       '3-6', '5-8', '1-2', '8-12', '2-5', '5-10', '7-9', '10-20', '1-4',\n",
       "       '10-17', '0-2', '6-8', '2-3', '5-12', '2-8', '1-5', '0-1', '7-15',\n",
       "       '5-6', '7-8', '5-15', '14-16', '4-6', '3-12', '0-5', '7-10', '4-8',\n",
       "       '10-12', '0-3', '6-10', '8-20', '7-20', '3-4', '8-15', '10-14',\n",
       "       '12-16', '12-15', '20', '9-15', '3-8', '3-20', '0-4', '4-10',\n",
       "       '6-9', '2-7', '10-18', '2-10', '3-10', '6-15', '6-7', '1-6', '1-7',\n",
       "       '9-12', '1-8', '7-12', '12-14', '5-20', '1-10', '9-14', '3-9',\n",
       "       '4-20', '7-13', '9-11', '0-10', '7-11'], dtype=object)"
      ]
     },
     "execution_count": 36,
     "metadata": {},
     "output_type": "execute_result"
    }
   ],
   "source": [
    "data[\"Exp years\"].unique()"
   ]
  },
  {
   "cell_type": "markdown",
   "id": "13d92499",
   "metadata": {},
   "source": [
    "### Discovering `Skills` column"
   ]
  },
  {
   "cell_type": "code",
   "execution_count": 37,
   "id": "270dc58d",
   "metadata": {},
   "outputs": [
    {
     "data": {
      "text/plain": [
       "array(['Accounting/Finance,Analyst/Research,Accounting,Financial Analysis,CMA,Finance,Analysis,Planning',\n",
       "       'Project/Program Management,Engineering - Telecom/Technology,information technology (it),computer science,microsoft office,networks,security,english,analysis',\n",
       "       'Operations/Management,Analyst/Research,Financial Analysis,Finance,Accounting,Financial Management,Microsoft Office,Commerce,Microsoft Excel',\n",
       "       ...,\n",
       "       'Manufacturing/Production,Engineering - Mechanical/Electrical,Cosmetics,Engineering,Manufacturing,Management,Production,Pharmaceutical,Science',\n",
       "       'Marketing/PR/Advertising,Media/Journalism/Publishing,English,Market Research,Marketing,media,sales skills,Social Media,Communication',\n",
       "       'Engineering - Mechanical/Electrical,technical,Electrical Engineering,Engineering'],\n",
       "      dtype=object)"
      ]
     },
     "execution_count": 37,
     "metadata": {},
     "output_type": "execute_result"
    }
   ],
   "source": [
    "data[\"Skills\"].unique()"
   ]
  },
  {
   "cell_type": "code",
   "execution_count": 38,
   "id": "f0befb65",
   "metadata": {},
   "outputs": [],
   "source": [
    "# function to replace slash to Comma\n",
    "def clean_skills(skills):\n",
    "    skill = skills.replace(\"/\", \",\") \n",
    "    skill = skill.replace(\" - \", \",\")\n",
    "    return skill\n",
    "\n",
    "data['Skills'] = data['Skills'].apply(clean_skills)"
   ]
  },
  {
   "cell_type": "code",
   "execution_count": 39,
   "id": "d00fffbe",
   "metadata": {},
   "outputs": [
    {
     "data": {
      "text/html": [
       "<div>\n",
       "<style scoped>\n",
       "    .dataframe tbody tr th:only-of-type {\n",
       "        vertical-align: middle;\n",
       "    }\n",
       "\n",
       "    .dataframe tbody tr th {\n",
       "        vertical-align: top;\n",
       "    }\n",
       "\n",
       "    .dataframe thead th {\n",
       "        text-align: right;\n",
       "    }\n",
       "</style>\n",
       "<table border=\"1\" class=\"dataframe\">\n",
       "  <thead>\n",
       "    <tr style=\"text-align: right;\">\n",
       "      <th></th>\n",
       "      <th>Job title</th>\n",
       "      <th>Company name</th>\n",
       "      <th>Location</th>\n",
       "      <th>Job type</th>\n",
       "      <th>Exp level</th>\n",
       "      <th>Exp years</th>\n",
       "      <th>Skills</th>\n",
       "    </tr>\n",
       "  </thead>\n",
       "  <tbody>\n",
       "    <tr>\n",
       "      <th>486</th>\n",
       "      <td>Senior Operational Risk Analyst</td>\n",
       "      <td>Al Ahly capital holding</td>\n",
       "      <td>Maadi, Cairo</td>\n",
       "      <td>Full Time</td>\n",
       "      <td>Experienced</td>\n",
       "      <td>3-5</td>\n",
       "      <td>Accounting,Finance,Banking,Analyst,Research,An...</td>\n",
       "    </tr>\n",
       "    <tr>\n",
       "      <th>935</th>\n",
       "      <td>Local Purchasing Specialist</td>\n",
       "      <td>Samaya Electronics Egypt LTD</td>\n",
       "      <td>Nasr City, Cairo</td>\n",
       "      <td>Full Time</td>\n",
       "      <td>Experienced</td>\n",
       "      <td>4-6</td>\n",
       "      <td>Logistics,Supply Chain,Purchasing,Procurement,...</td>\n",
       "    </tr>\n",
       "    <tr>\n",
       "      <th>1399</th>\n",
       "      <td>Senior Contracts and Invoices Engineer</td>\n",
       "      <td>Mobica</td>\n",
       "      <td>Dokki, Giza</td>\n",
       "      <td>Full Time</td>\n",
       "      <td>Experienced</td>\n",
       "      <td>5-7</td>\n",
       "      <td>Engineering,Construction,Civil,Architecture,En...</td>\n",
       "    </tr>\n",
       "    <tr>\n",
       "      <th>1466</th>\n",
       "      <td>Senior Brand Manager</td>\n",
       "      <td>Helm Organization</td>\n",
       "      <td>Maadi, Cairo</td>\n",
       "      <td>Full Time</td>\n",
       "      <td>Manager</td>\n",
       "      <td>7-10</td>\n",
       "      <td>Marketing,PR,Advertising,Marketing,Management,...</td>\n",
       "    </tr>\n",
       "    <tr>\n",
       "      <th>1120</th>\n",
       "      <td>Executive Administrative</td>\n",
       "      <td>Bayt El Khebra</td>\n",
       "      <td>Maadi, Cairo</td>\n",
       "      <td>Full Time</td>\n",
       "      <td>Experienced</td>\n",
       "      <td>3-5</td>\n",
       "      <td>Accounting,Finance,Administration,Operations,M...</td>\n",
       "    </tr>\n",
       "  </tbody>\n",
       "</table>\n",
       "</div>"
      ],
      "text/plain": [
       "                                   Job title                  Company name  \\\n",
       "486          Senior Operational Risk Analyst       Al Ahly capital holding   \n",
       "935              Local Purchasing Specialist  Samaya Electronics Egypt LTD   \n",
       "1399  Senior Contracts and Invoices Engineer                        Mobica   \n",
       "1466                    Senior Brand Manager             Helm Organization   \n",
       "1120                Executive Administrative                Bayt El Khebra   \n",
       "\n",
       "              Location   Job type    Exp level Exp years  \\\n",
       "486       Maadi, Cairo  Full Time  Experienced       3-5   \n",
       "935   Nasr City, Cairo  Full Time  Experienced       4-6   \n",
       "1399       Dokki, Giza  Full Time  Experienced       5-7   \n",
       "1466      Maadi, Cairo  Full Time      Manager      7-10   \n",
       "1120      Maadi, Cairo  Full Time  Experienced       3-5   \n",
       "\n",
       "                                                 Skills  \n",
       "486   Accounting,Finance,Banking,Analyst,Research,An...  \n",
       "935   Logistics,Supply Chain,Purchasing,Procurement,...  \n",
       "1399  Engineering,Construction,Civil,Architecture,En...  \n",
       "1466  Marketing,PR,Advertising,Marketing,Management,...  \n",
       "1120  Accounting,Finance,Administration,Operations,M...  "
      ]
     },
     "execution_count": 39,
     "metadata": {},
     "output_type": "execute_result"
    }
   ],
   "source": [
    "# see sample of data\n",
    "\n",
    "data.sample(5)"
   ]
  },
  {
   "cell_type": "markdown",
   "id": "150d772f",
   "metadata": {},
   "source": [
    "- ### `Cleaning Done.`"
   ]
  },
  {
   "cell_type": "markdown",
   "id": "7f034a65",
   "metadata": {},
   "source": [
    "## Exploratory Data Analysis"
   ]
  },
  {
   "cell_type": "code",
   "execution_count": 40,
   "id": "2ca90042",
   "metadata": {},
   "outputs": [
    {
     "data": {
      "image/png": "[encoded data removed]",
      "text/plain": [
       "<Figure size 1000x600 with 1 Axes>"
      ]
     },
     "metadata": {},
     "output_type": "display_data"
    }
   ],
   "source": [
    "# Q1 : What are the most common Job type?\n",
    "\n",
    "plt.figure(figsize = (10,6))\n",
    "graph = sns.countplot(x = \"Job type\", data = data, order = data['Job type'].value_counts().index, palette = \"RdBu\")\n",
    "\n",
    "for container in graph.containers:\n",
    "    graph.bar_label(container)\n",
    "    \n",
    "plt.show() "
   ]
  },
  {
   "cell_type": "code",
   "execution_count": 41,
   "id": "2f50bb47",
   "metadata": {},
   "outputs": [
    {
     "data": {
      "image/png": "[encoded data removed]",
      "text/plain": [
       "<Figure size 1000x600 with 1 Axes>"
      ]
     },
     "metadata": {},
     "output_type": "display_data"
    }
   ],
   "source": [
    "# Q2 : What is top 10 jobs?\n",
    "\n",
    "plt.figure(figsize = (10,6))\n",
    "graph = sns.countplot(y = \"Job title\", data = data, order = data[\"Job title\"].value_counts().iloc[:20].index, palette = \"RdBu\")\n",
    "plt.xlabel('Number of Times the Job Was Requested')\n",
    "\n",
    "for container in graph.containers:\n",
    "    graph.bar_label(container)\n",
    "    \n",
    "plt.show() "
   ]
  },
  {
   "cell_type": "code",
   "execution_count": 42,
   "id": "a2c62eb2",
   "metadata": {},
   "outputs": [
    {
     "data": {
      "image/png": "[encoded data removed]",
      "text/plain": [
       "<Figure size 1000x600 with 1 Axes>"
      ]
     },
     "metadata": {},
     "output_type": "display_data"
    }
   ],
   "source": [
    "# Q3 : What is top 10 districts?\n",
    "\n",
    "plt.figure(figsize = (10,6))\n",
    "graph = sns.countplot(y = \"Location\", data = data, order = data.Location.value_counts().iloc[:10].index, palette = \"RdBu\")\n",
    "\n",
    "for container in graph.containers:\n",
    "    graph.bar_label(container)\n",
    "    \n",
    "plt.show() "
   ]
  },
  {
   "cell_type": "code",
   "execution_count": 43,
   "id": "eebb2356",
   "metadata": {},
   "outputs": [
    {
     "data": {
      "image/png": "[encoded data removed]",
      "text/plain": [
       "<Figure size 1000x600 with 1 Axes>"
      ]
     },
     "metadata": {},
     "output_type": "display_data"
    }
   ],
   "source": [
    "# Q4 : What level of experience is most required?\n",
    "\n",
    "plt.figure(figsize = (10,6))\n",
    "graph = sns.countplot(x = \"Exp level\", data = data, order = data['Exp level'].value_counts().index, palette = \"RdBu\")\n",
    "\n",
    "for container in graph.containers:\n",
    "    graph.bar_label(container)\n",
    "    \n",
    "plt.show() "
   ]
  },
  {
   "cell_type": "code",
   "execution_count": 44,
   "id": "61401ca8",
   "metadata": {},
   "outputs": [
    {
     "data": {
      "image/png": "[encoded data removed]",
      "text/plain": [
       "<Figure size 1000x600 with 1 Axes>"
      ]
     },
     "metadata": {},
     "output_type": "display_data"
    }
   ],
   "source": [
    "# Q5 : What company is most in demand for jobs?\n",
    "\n",
    "plt.figure(figsize = (10,6))\n",
    "graph = sns.countplot(y = \"Company name\", data = data, order = data[\"Company name\"].value_counts().iloc[:10].index, palette = \"RdBu\")\n",
    "\n",
    "for container in graph.containers:\n",
    "    graph.bar_label(container)\n",
    "    \n",
    "plt.show() "
   ]
  },
  {
   "cell_type": "markdown",
   "id": "1c0314f7",
   "metadata": {},
   "source": [
    "## Create a Dataframe skills"
   ]
  },
  {
   "cell_type": "code",
   "execution_count": 45,
   "id": "751f4744",
   "metadata": {
    "scrolled": false
   },
   "outputs": [],
   "source": [
    "def counting_skills():\n",
    "    # get list of all skills\n",
    "    skill_list = list(data[\"Skills\"])\n",
    "    \n",
    "    # join skills and union it\n",
    "    skill =  ','.join(skill_list).split(',')\n",
    "    \n",
    "    # create skill count dictionary\n",
    "    skill_count = collections.Counter(skill)\n",
    "    \n",
    "    return skill_count"
   ]
  },
  {
   "cell_type": "code",
   "execution_count": 46,
   "id": "479f71df",
   "metadata": {},
   "outputs": [
    {
     "data": {
      "text/html": [
       "<div>\n",
       "<style scoped>\n",
       "    .dataframe tbody tr th:only-of-type {\n",
       "        vertical-align: middle;\n",
       "    }\n",
       "\n",
       "    .dataframe tbody tr th {\n",
       "        vertical-align: top;\n",
       "    }\n",
       "\n",
       "    .dataframe thead th {\n",
       "        text-align: right;\n",
       "    }\n",
       "</style>\n",
       "<table border=\"1\" class=\"dataframe\">\n",
       "  <thead>\n",
       "    <tr style=\"text-align: right;\">\n",
       "      <th></th>\n",
       "      <th>Skill</th>\n",
       "      <th>Count</th>\n",
       "    </tr>\n",
       "  </thead>\n",
       "  <tbody>\n",
       "  </tbody>\n",
       "</table>\n",
       "</div>"
      ],
      "text/plain": [
       "Empty DataFrame\n",
       "Columns: [Skill, Count]\n",
       "Index: []"
      ]
     },
     "execution_count": 46,
     "metadata": {},
     "output_type": "execute_result"
    }
   ],
   "source": [
    "skills = pd.DataFrame(columns = [\"Skill\", \"Count\"])\n",
    "skills"
   ]
  },
  {
   "cell_type": "markdown",
   "id": "40b05b70",
   "metadata": {},
   "source": [
    "- dataframe still empty "
   ]
  },
  {
   "cell_type": "code",
   "execution_count": 47,
   "id": "9978ba83",
   "metadata": {},
   "outputs": [],
   "source": [
    "# add data to dataFrame\n",
    "\n",
    "for key,value in counting_skills().items():\n",
    "     skills.loc[len(skills.index)] = [key, value]  "
   ]
  },
  {
   "cell_type": "code",
   "execution_count": 48,
   "id": "d165f418",
   "metadata": {},
   "outputs": [
    {
     "data": {
      "text/html": [
       "<div>\n",
       "<style scoped>\n",
       "    .dataframe tbody tr th:only-of-type {\n",
       "        vertical-align: middle;\n",
       "    }\n",
       "\n",
       "    .dataframe tbody tr th {\n",
       "        vertical-align: top;\n",
       "    }\n",
       "\n",
       "    .dataframe thead th {\n",
       "        text-align: right;\n",
       "    }\n",
       "</style>\n",
       "<table border=\"1\" class=\"dataframe\">\n",
       "  <thead>\n",
       "    <tr style=\"text-align: right;\">\n",
       "      <th></th>\n",
       "      <th>Skill</th>\n",
       "      <th>Count</th>\n",
       "    </tr>\n",
       "  </thead>\n",
       "  <tbody>\n",
       "    <tr>\n",
       "      <th>0</th>\n",
       "      <td>Accounting</td>\n",
       "      <td>943</td>\n",
       "    </tr>\n",
       "    <tr>\n",
       "      <th>1</th>\n",
       "      <td>Finance</td>\n",
       "      <td>911</td>\n",
       "    </tr>\n",
       "    <tr>\n",
       "      <th>2</th>\n",
       "      <td>Analyst</td>\n",
       "      <td>204</td>\n",
       "    </tr>\n",
       "    <tr>\n",
       "      <th>3</th>\n",
       "      <td>Research</td>\n",
       "      <td>219</td>\n",
       "    </tr>\n",
       "    <tr>\n",
       "      <th>4</th>\n",
       "      <td>Financial Analysis</td>\n",
       "      <td>403</td>\n",
       "    </tr>\n",
       "    <tr>\n",
       "      <th>...</th>\n",
       "      <td>...</td>\n",
       "      <td>...</td>\n",
       "    </tr>\n",
       "    <tr>\n",
       "      <th>1570</th>\n",
       "      <td>English Teaching</td>\n",
       "      <td>1</td>\n",
       "    </tr>\n",
       "    <tr>\n",
       "      <th>1571</th>\n",
       "      <td>Hr Director</td>\n",
       "      <td>1</td>\n",
       "    </tr>\n",
       "    <tr>\n",
       "      <th>1572</th>\n",
       "      <td>GCC</td>\n",
       "      <td>1</td>\n",
       "    </tr>\n",
       "    <tr>\n",
       "      <th>1573</th>\n",
       "      <td>Saudi</td>\n",
       "      <td>1</td>\n",
       "    </tr>\n",
       "    <tr>\n",
       "      <th>1574</th>\n",
       "      <td>Copywriting</td>\n",
       "      <td>1</td>\n",
       "    </tr>\n",
       "  </tbody>\n",
       "</table>\n",
       "<p>1575 rows × 2 columns</p>\n",
       "</div>"
      ],
      "text/plain": [
       "                   Skill  Count\n",
       "0             Accounting    943\n",
       "1                Finance    911\n",
       "2                Analyst    204\n",
       "3               Research    219\n",
       "4     Financial Analysis    403\n",
       "...                  ...    ...\n",
       "1570    English Teaching      1\n",
       "1571         Hr Director      1\n",
       "1572                 GCC      1\n",
       "1573               Saudi      1\n",
       "1574         Copywriting      1\n",
       "\n",
       "[1575 rows x 2 columns]"
      ]
     },
     "execution_count": 48,
     "metadata": {},
     "output_type": "execute_result"
    }
   ],
   "source": [
    "# see skills\n",
    "\n",
    "skills"
   ]
  },
  {
   "cell_type": "code",
   "execution_count": 49,
   "id": "cdceb05b",
   "metadata": {},
   "outputs": [],
   "source": [
    "# sorted dataFrame by Count of skill\n",
    "\n",
    "skills.sort_values(by = 'Count', ascending = False, inplace = True)"
   ]
  },
  {
   "cell_type": "code",
   "execution_count": 50,
   "id": "da981b77",
   "metadata": {},
   "outputs": [
    {
     "data": {
      "image/png": "[encoded data removed]",
      "text/plain": [
       "<Figure size 1000x600 with 1 Axes>"
      ]
     },
     "metadata": {},
     "output_type": "display_data"
    }
   ],
   "source": [
    "# Q6 What is top 10 skills?\n",
    "\n",
    "plt.figure(figsize = (10,6))\n",
    "graph = sns.barplot(y = \"Skill\", x = \"Count\", data = skills.iloc[:10], palette = \"RdBu\")\n",
    "\n",
    "for container in graph.containers:\n",
    "    graph.bar_label(container)\n",
    "    \n",
    "plt.show()"
   ]
  },
  {
   "cell_type": "code",
   "execution_count": 51,
   "id": "2a67110a",
   "metadata": {},
   "outputs": [],
   "source": [
    "# save data after cleaning to csv file\n",
    "\n",
    "data.to_csv(\"Wuzzuf data\")"
   ]
  }
 ],
 "metadata": {
  "kernelspec": {
   "display_name": "Python 3 (ipykernel)",
   "language": "python",
   "name": "python3"
  },
  "language_info": {
   "codemirror_mode": {
    "name": "ipython",
    "version": 3
   },
   "file_extension": ".py",
   "mimetype": "text/x-python",
   "name": "python",
   "nbconvert_exporter": "python",
   "pygments_lexer": "ipython3",
   "version": "3.10.9"
  }
 },
 "nbformat": 4,
 "nbformat_minor": 5
}
